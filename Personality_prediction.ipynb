{
  "nbformat": 4,
  "nbformat_minor": 0,
  "metadata": {
    "colab": {
      "provenance": [],
      "gpuType": "T4",
      "authorship_tag": "ABX9TyNY66dmHZyCXT9R0uv+3itk",
      "include_colab_link": true
    },
    "kernelspec": {
      "name": "python3",
      "display_name": "Python 3"
    },
    "language_info": {
      "name": "python"
    },
    "accelerator": "GPU"
  },
  "cells": [
    {
      "cell_type": "markdown",
      "metadata": {
        "id": "view-in-github",
        "colab_type": "text"
      },
      "source": [
        "<a href=\"https://colab.research.google.com/github/rojadasappa/ml_introvert-extrovert-prediction/blob/main/Personality_prediction.ipynb\" target=\"_parent\"><img src=\"https://colab.research.google.com/assets/colab-badge.svg\" alt=\"Open In Colab\"/></a>"
      ]
    },
    {
      "cell_type": "code",
      "source": [
        "import pandas as pd\n",
        "from sklearn.preprocessing import LabelEncoder\n",
        "\n",
        "# Load dataset\n",
        "df = pd.read_csv(\"/content/personality_datasert.csv\")  # change filename\n",
        "\n",
        "# Detect column data types based on first valid entry\n",
        "expected_types = {}\n",
        "for col in df.columns:\n",
        "    first_valid = df[col].dropna().iloc[0]\n",
        "    if isinstance(first_valid, (int, float)):\n",
        "        expected_types[col] = \"numeric\"\n",
        "    else:\n",
        "        # Check if it's actually numeric string\n",
        "        try:\n",
        "            float(first_valid)\n",
        "            expected_types[col] = \"numeric\"\n",
        "        except:\n",
        "            expected_types[col] = \"string\"\n",
        "\n",
        "# Function to check if a value matches expected type\n",
        "def matches_type(val, expected_type):\n",
        "    if pd.isna(val):\n",
        "        return False\n",
        "    if expected_type == \"numeric\":\n",
        "        try:\n",
        "            float(val)\n",
        "            return True\n",
        "        except:\n",
        "            return False\n",
        "    elif expected_type == \"string\":\n",
        "        return isinstance(val, str)\n",
        "    return False\n",
        "\n",
        "# Filter out rows with anomalies\n",
        "mask = df.apply(lambda row: all(matches_type(row[col], expected_types[col]) for col in df.columns), axis=1)\n",
        "df_cleaned = df[mask].copy()\n",
        "\n",
        "# Convert numeric columns to float\n",
        "for col, t in expected_types.items():\n",
        "    if t == \"numeric\":\n",
        "        df_cleaned[col] = df_cleaned[col].astype(float)\n",
        "\n",
        "# Label encode string columns\n",
        "le = LabelEncoder()\n",
        "for col, t in expected_types.items():\n",
        "    if t == \"string\":\n",
        "        df_cleaned[col] = le.fit_transform(df_cleaned[col])\n",
        "\n",
        "# Save cleaned dataset\n",
        "df_cleaned.to_csv(\"cleaned_dataset.csv\", index=False)\n",
        "\n",
        "print(f\"✅ Cleaning complete. {len(df) - len(df_cleaned)} rows removed due to anomalies.\")"
      ],
      "metadata": {
        "colab": {
          "base_uri": "https://localhost:8080/"
        },
        "id": "IbkFCDo1BZ0t",
        "outputId": "ca0d6f52-04c2-423f-e415-7e501c3f6f46"
      },
      "execution_count": null,
      "outputs": [
        {
          "output_type": "stream",
          "name": "stdout",
          "text": [
            "✅ Cleaning complete. 0 rows removed due to anomalies.\n"
          ]
        }
      ]
    },
    {
      "cell_type": "code",
      "source": [
        "import pandas as pd\n",
        "\n",
        "# Load dataset\n",
        "df = pd.read_csv(\"/content/cleaned_dataset.csv\")  # change filename\n",
        "\n",
        "# Columns expected to be integers\n",
        "expected_int_cols = [\n",
        "    \"Time_spent_Alone\",\n",
        "    \"Stage_fear\",\n",
        "    \"Social_event_attendance\",\n",
        "    \"Going_outside\",\n",
        "    \"Drained_after_socializing\",\n",
        "    \"Friends_circle_size\",\n",
        "    \"Post_frequency\",\n",
        "    \"Personality\"\n",
        "]\n",
        "\n",
        "# Function to check if a value is strictly an integer\n",
        "def is_integer_value(val):\n",
        "    try:\n",
        "        # Must be numeric and have no decimal part\n",
        "        return float(val).is_integer()\n",
        "    except:\n",
        "        return False\n",
        "\n",
        "# Keep only rows where all expected columns are integers\n",
        "mask = df.apply(lambda row: all(is_integer_value(row[col]) for col in expected_int_cols), axis=1)\n",
        "df_cleaned = df[mask].copy()\n",
        "\n",
        "# Convert all expected columns to int type\n",
        "df_cleaned[expected_int_cols] = df_cleaned[expected_int_cols].astype(int)\n",
        "\n",
        "# Save cleaned dataset\n",
        "df_cleaned.to_csv(\"cleaned_dataset2.csv\", index=False)\n",
        "\n",
        "print(f\"✅ Cleaning complete. {len(df) - len(df_cleaned)} rows removed due to anomalies.\")"
      ],
      "metadata": {
        "colab": {
          "base_uri": "https://localhost:8080/"
        },
        "id": "b0B-HCDmBtJZ",
        "outputId": "4b0e0a85-f017-44a7-c419-6fbc90daa9ba"
      },
      "execution_count": null,
      "outputs": [
        {
          "output_type": "stream",
          "name": "stdout",
          "text": [
            "✅ Cleaning complete. 257 rows removed due to anomalies.\n"
          ]
        }
      ]
    },
    {
      "cell_type": "code",
      "source": [
        "import pandas as pd\n",
        "from sklearn.model_selection import train_test_split\n",
        "from sklearn.ensemble import RandomForestClassifier\n",
        "from sklearn.metrics import classification_report, accuracy_score\n",
        "from sklearn.preprocessing import LabelEncoder\n",
        "\n",
        "# Load cleaned dataset\n",
        "df = pd.read_csv(\"/content/cleaned_dataset2.csv\")  # Change filename if needed\n",
        "\n",
        "# Target variable (change to your target column)\n",
        "target_col = \"Personality\"\n",
        "\n",
        "# Separate features and target\n",
        "X = df.drop(columns=[target_col])\n",
        "y = df[target_col]\n",
        "\n",
        "# Encode any categorical columns in features\n",
        "label_encoders = {}\n",
        "for col in X.columns:\n",
        "    if X[col].dtype == object:\n",
        "        le = LabelEncoder()\n",
        "        X[col] = le.fit_transform(X[col])\n",
        "        label_encoders[col] = le\n",
        "\n",
        "# Train-test split\n",
        "X_train, X_test, y_train, y_test = train_test_split(X, y, test_size=0.2, random_state=42)\n",
        "\n",
        "# Initialize and train model\n",
        "model = RandomForestClassifier(random_state=42)\n",
        "model.fit(X_train, y_train)\n",
        "\n",
        "# Predictions\n",
        "y_pred = model.predict(X_test)\n",
        "\n",
        "# Evaluation\n",
        "print(\"✅ Model Accuracy:\", accuracy_score(y_test, y_pred))\n",
        "print(\"\\nClassification Report:\\n\", classification_report(y_test, y_pred))\n",
        "\n",
        "# Save model if needed\n",
        "import joblib\n",
        "joblib.dump(model, \"personality_classifier.joblib\")\n",
        "print(\"💾 Model saved as 'personality_classifier.joblib'\")"
      ],
      "metadata": {
        "colab": {
          "base_uri": "https://localhost:8080/"
        },
        "id": "ZwxAyhT0ELfk",
        "outputId": "bc5327e5-ef1c-47ee-8daf-7052e37dc664"
      },
      "execution_count": null,
      "outputs": [
        {
          "output_type": "stream",
          "name": "stdout",
          "text": [
            "✅ Model Accuracy: 0.9035916824196597\n",
            "\n",
            "Classification Report:\n",
            "               precision    recall  f1-score   support\n",
            "\n",
            "           0       0.90      0.91      0.91       267\n",
            "           1       0.91      0.89      0.90       262\n",
            "\n",
            "    accuracy                           0.90       529\n",
            "   macro avg       0.90      0.90      0.90       529\n",
            "weighted avg       0.90      0.90      0.90       529\n",
            "\n",
            "💾 Model saved as 'personality_classifier.joblib'\n"
          ]
        }
      ]
    },
    {
      "cell_type": "code",
      "source": [
        "import joblib\n",
        "import pandas as pd\n",
        "\n",
        "# Load the scikit-learn model\n",
        "model = joblib.load(\"personality_classifier.joblib\")  # ✅ Correct way\n",
        "\n",
        "# Collect user input\n",
        "fields = [\n",
        "    \"Time_spent_Alone\",\n",
        "    \"Stage_fear\",\n",
        "    \"Social_event_attendance\",\n",
        "    \"Going_outside\",\n",
        "    \"Drained_after_socializing\",\n",
        "    \"Friends_circle_size\",\n",
        "    \"Post_frequency\"\n",
        "]\n",
        "\n",
        "user_data = {}\n",
        "for field in fields:\n",
        "    val = int(input(f\"Enter value for {field}: \"))  # All expected ints\n",
        "    user_data[field] = val\n",
        "\n",
        "# Prepare DataFrame\n",
        "X_new = pd.DataFrame([user_data])\n",
        "\n",
        "# Get prediction\n",
        "prediction = model.predict(X_new)[0]\n",
        "print(f\"Predicted Personality: {prediction}\")"
      ],
      "metadata": {
        "colab": {
          "base_uri": "https://localhost:8080/"
        },
        "id": "Hy2vyWf5F-AI",
        "outputId": "7db6edb6-bbaa-4e5e-e244-43f4d537f3d4"
      },
      "execution_count": null,
      "outputs": [
        {
          "output_type": "stream",
          "name": "stdout",
          "text": [
            "Enter value for Time_spent_Alone: 6\n",
            "Enter value for Stage_fear: 1\n",
            "Enter value for Social_event_attendance: 0\n",
            "Enter value for Going_outside: 1\n",
            "Enter value for Drained_after_socializing: 1\n",
            "Enter value for Friends_circle_size: 10\n",
            "Enter value for Post_frequency: 2\n",
            "Predicted Personality: 1\n"
          ]
        }
      ]
    }
  ]
}